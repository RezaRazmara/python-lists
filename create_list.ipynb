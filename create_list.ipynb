{
 "cells": [
  {
   "cell_type": "markdown",
   "id": "ca9acaac-a0ea-4b54-a777-828975f08b9e",
   "metadata": {
    "tags": []
   },
   "source": [
    "# Create List"
   ]
  },
  {
   "cell_type": "markdown",
   "id": "873bd642-71b9-4826-98fe-12480e87f331",
   "metadata": {
    "tags": []
   },
   "source": [
    "#### 1. use brackets"
   ]
  },
  {
   "cell_type": "markdown",
   "id": "59359979-7f7d-493c-ad48-7f40c8372e40",
   "metadata": {
    "tags": []
   },
   "source": [
    "##### 1.1 Homogenous list"
   ]
  },
  {
   "cell_type": "markdown",
   "id": "acd14462-2776-42d5-96df-7c4eb3f86fc4",
   "metadata": {},
   "source": [
    "A list of <b>same types</b> of elements, <b>for example</b> : my_list = ['apple', 'orange', 'banana']"
   ]
  },
  {
   "cell_type": "code",
   "execution_count": 1,
   "id": "a9d758e4-c5c6-47b4-b03b-44c392902d43",
   "metadata": {},
   "outputs": [],
   "source": [
    "my_list_empty = [] # create an empty list another way is my_list_empty = list()."
   ]
  },
  {
   "cell_type": "code",
   "execution_count": 2,
   "id": "71e655d5-05c1-4200-9cb4-364e7965e418",
   "metadata": {},
   "outputs": [],
   "source": [
    "my_list_integers = [-2, -1, 0, 1, 2, 3, 4, 5] # create a list of integers."
   ]
  },
  {
   "cell_type": "code",
   "execution_count": 3,
   "id": "61f2cb86-4576-4a24-b0f3-a7d68b1b71c8",
   "metadata": {},
   "outputs": [],
   "source": [
    "my_list_doubles = [-1123.3223 ,-600.0 ,-1 ,-0.3 ,-0.0032 ,0.0 ,0.04 ,3.14 ,123.0 ,9000.0]"
   ]
  },
  {
   "cell_type": "code",
   "execution_count": 4,
   "id": "9aa2bb33-4573-49d2-b19f-c8341e494848",
   "metadata": {},
   "outputs": [],
   "source": [
    "my_list_booleans = [True, False, True, True, False, False] # creat a list of booleans."
   ]
  },
  {
   "cell_type": "code",
   "execution_count": 5,
   "id": "6f685323-8cad-4ef7-8c81-1b974fa8d604",
   "metadata": {},
   "outputs": [],
   "source": [
    "my_list_strings = ['Jim', 'Sunday', 'Sara', 'Rocket', 'AppLE', 'RED', '1','True','-1.0'] # create a list of Strings."
   ]
  },
  {
   "cell_type": "code",
   "execution_count": 6,
   "id": "167f94e9-1271-4773-9994-291b21d2a688",
   "metadata": {},
   "outputs": [],
   "source": [
    "# create a list of lists.\n",
    "my_list_of_lists = [[1,2], [1,2,3], [4,5,6],['Sara', 'Jim']]"
   ]
  },
  {
   "cell_type": "code",
   "execution_count": 7,
   "id": "69f2f1bd-62b1-4ce0-ac2d-966f1b1ab61c",
   "metadata": {},
   "outputs": [],
   "source": [
    "# create a list of tuples.\n",
    "my_list_of_tuples = [('Police', True), ('Thief', False), ('Tuesday','workday'),('Sunday','holiday')] "
   ]
  },
  {
   "cell_type": "code",
   "execution_count": 8,
   "id": "b567d443-7104-456f-810e-19c0acb5dff1",
   "metadata": {},
   "outputs": [],
   "source": [
    "# create a list of dictionaris.\n",
    "# the first element is an empty dict.\n",
    "my_list_of_dictionaries = [{},{0: 'red', 1: 'blue', 2: 'green' }, {'Jim':'+2234531', 'Sara':'+9933351'}] "
   ]
  },
  {
   "cell_type": "code",
   "execution_count": 9,
   "id": "6d7583e0-2b12-48ed-80b3-bb0b21b3a819",
   "metadata": {},
   "outputs": [
    {
     "name": "stdout",
     "output_type": "stream",
     "text": [
      "function1 called!\n",
      "function2 called!\n",
      "function3 called!\n"
     ]
    }
   ],
   "source": [
    "# create a list of functions.\n",
    "def function1():\n",
    "    print('function1 called!')\n",
    "    \n",
    "def function2():\n",
    "    print('function2 called!')\n",
    "\n",
    "def function3():\n",
    "    print('function3 called!')\n",
    "\n",
    "# create a list of functions.\n",
    "my_list_functions = [function1, function2, function3]\n",
    "\n",
    "# we can call them sequentially.\n",
    "for f in my_list_functions:\n",
    "    f()"
   ]
  },
  {
   "cell_type": "code",
   "execution_count": 57,
   "id": "db73270b-439e-4fd1-ba40-99eac42a4daa",
   "metadata": {},
   "outputs": [
    {
     "name": "stdout",
     "output_type": "stream",
     "text": [
      "<class '__main__.Class1'>\n",
      "<class '__main__.Class2'>\n",
      "<class '__main__.Class3'>\n",
      "<__main__.Class1 object at 0x000002437FA2B250>\n",
      "<__main__.Class2 object at 0x000002437FA2B250>\n",
      "<__main__.Class3 object at 0x000002437FA2B250>\n",
      "<__main__.Class2 object at 0x000002437F9EA1D0>\n"
     ]
    }
   ],
   "source": [
    "# create a list of classes.\n",
    "class Class1:\n",
    "    pass\n",
    "\n",
    "class Class2:\n",
    "    pass\n",
    "\n",
    "class Class3:\n",
    "    pass\n",
    "\n",
    "# create to store our classes in the list\n",
    "list_classes = [Class1, Class2, Class3]\n",
    "for EachClass in list_classes:\n",
    "    print(EachClass)\n",
    "\n",
    "# we can create objects from these list\n",
    "    # 1. use list comprehensions to create objects\n",
    "list_objects = [EachClass() for EachClass in list_classes]\n",
    "\n",
    "    # 2. use for loop to create objects\n",
    "for EachClass in list_classes:\n",
    "    print(EachClass())\n",
    "\n",
    "    # 3. use just Class2\n",
    "my_object_from_Class2 = list_classes[1]()  # first select the class and after that call the constructor with ().\n",
    "print(my_object_from_Class2)"
   ]
  },
  {
   "cell_type": "markdown",
   "id": "116c60ff-01f8-471f-a096-d57fd0feb548",
   "metadata": {
    "tags": []
   },
   "source": [
    "##### 1.2 Heterogeneous List"
   ]
  },
  {
   "cell_type": "markdown",
   "id": "3bc1ee9b-66a6-4941-ae1f-0957d6036e43",
   "metadata": {},
   "source": [
    "A list of <b>different types</b> of elements, <b>for example</b> :  my_list = [0, None, True, 'Jim']"
   ]
  },
  {
   "cell_type": "code",
   "execution_count": 11,
   "id": "f04e916b-1ffb-4516-a5d4-4da5bdfdde4e",
   "metadata": {},
   "outputs": [
    {
     "name": "stdout",
     "output_type": "stream",
     "text": [
      "function1 called!\n",
      "None -> <class 'NoneType'>\n",
      "False -> <class 'bool'>\n",
      "True -> <class 'bool'>\n",
      "1 -> <class 'int'>\n",
      "-0.1 -> <class 'float'>\n",
      "Sara -> <class 'str'>\n",
      "[1, 2] -> <class 'list'>\n",
      "(1, 2) -> <class 'tuple'>\n",
      "{} -> <class 'dict'>\n",
      "set() -> <class 'set'>\n",
      "<function function1 at 0x000002437FA30310> -> <class 'function'>\n",
      "<class '__main__.Class2'> -> <class 'type'>\n",
      "None -> <class 'NoneType'>\n",
      "<__main__.Class3 object at 0x000002437FA2B670> -> <class '__main__.Class3'>\n"
     ]
    }
   ],
   "source": [
    "# a list of all objects \n",
    "list_of_all_objects = [None, False, True, 1, -0.1, 'Sara', [1,2],(1,2), {}, set() ,function1, Class2, function1(), Class3()]\n",
    "for element in list_of_all_objects:\n",
    "    print(element,'->',type(element))"
   ]
  },
  {
   "cell_type": "markdown",
   "id": "29c094c7-4d59-4cc2-b454-1c7a6b6dd8eb",
   "metadata": {
    "tags": []
   },
   "source": [
    "#### 2. list constructor"
   ]
  },
  {
   "cell_type": "code",
   "execution_count": 12,
   "id": "2cd4e1fd-d606-4108-9000-85184388de8a",
   "metadata": {},
   "outputs": [],
   "source": [
    "my_list = list() # create an empty list like my_list = []"
   ]
  },
  {
   "cell_type": "code",
   "execution_count": 13,
   "id": "fa84e14d-66d9-4b53-9b55-68bef497d218",
   "metadata": {},
   "outputs": [],
   "source": [
    "my_list = list([1,2,3,4]) # you should put iterable in paranthesis : a list"
   ]
  },
  {
   "cell_type": "code",
   "execution_count": 14,
   "id": "84180038-ad45-46ba-8241-b240b1727ec7",
   "metadata": {},
   "outputs": [],
   "source": [
    "my_list = list((1,2,3)) # you should put iterable in paranthesis : a tuple"
   ]
  },
  {
   "cell_type": "code",
   "execution_count": 15,
   "id": "20c52842-fe58-4977-92dc-cae9adb8a3f1",
   "metadata": {},
   "outputs": [],
   "source": [
    "my_list = list({1,2,3,4}) # you should put iterable in paranthesis : a set"
   ]
  },
  {
   "cell_type": "code",
   "execution_count": 16,
   "id": "371ca407-3e25-4d12-9d11-fccb5a8d8450",
   "metadata": {},
   "outputs": [
    {
     "name": "stdout",
     "output_type": "stream",
     "text": [
      "[0, 1, 2]\n"
     ]
    }
   ],
   "source": [
    "# if put dictionary, the list will be created of the KEYS \n",
    "my_list = list({0: 'red', 1: 'blue', 2: 'green' }) # you should put iterable in paranthesis : a dictionary\n",
    "print(my_list)"
   ]
  },
  {
   "cell_type": "markdown",
   "id": "c232c749-83ac-40d3-9345-e1d0fad40681",
   "metadata": {
    "tags": []
   },
   "source": [
    "#### 3. list comprehensions"
   ]
  },
  {
   "cell_type": "code",
   "execution_count": 17,
   "id": "6890c913-532a-4338-acdb-8aa652c3cbe0",
   "metadata": {},
   "outputs": [
    {
     "name": "stdout",
     "output_type": "stream",
     "text": [
      "[0, 1, 2, 3, 4, 5, 6, 7, 8, 9, 10, 11, 12]\n"
     ]
    }
   ],
   "source": [
    "my_list = [x for x in range(13)]\n",
    "print(my_list)"
   ]
  },
  {
   "cell_type": "code",
   "execution_count": 18,
   "id": "2efb0b55-a528-40d2-824e-db18c74e7cac",
   "metadata": {},
   "outputs": [
    {
     "name": "stdout",
     "output_type": "stream",
     "text": [
      "[-10, -9, -8, -7, -6, -5, -4, -3, -2, -1, 0, 1, 2, 3, 4, 5, 6, 7, 8, 9, 10, 11, 12]\n"
     ]
    }
   ],
   "source": [
    "my_list = [x for x in range(-10,13)]\n",
    "print(my_list)"
   ]
  },
  {
   "cell_type": "code",
   "execution_count": 19,
   "id": "a2e465b5-1baa-4946-a013-ff69ac20a372",
   "metadata": {},
   "outputs": [
    {
     "name": "stdout",
     "output_type": "stream",
     "text": [
      "[0, 2, 4, 6, 8, 10, 12, 14, 16, 18]\n"
     ]
    }
   ],
   "source": [
    "my_list_of_even_numbers = [x for x in range(0,20,2)]\n",
    "print(my_list_of_even_numbers)"
   ]
  },
  {
   "cell_type": "code",
   "execution_count": 20,
   "id": "a31a6727-b033-4687-b5bc-ee34cbb2040f",
   "metadata": {},
   "outputs": [
    {
     "name": "stdout",
     "output_type": "stream",
     "text": [
      "[1, 3, 5, 7, 9, 11, 13, 15, 17, 19]\n"
     ]
    }
   ],
   "source": [
    "my_list_of_odd_numbers = [x for x in range(1,20,2)]\n",
    "print(my_list_of_odd_numbers)"
   ]
  },
  {
   "cell_type": "code",
   "execution_count": 21,
   "id": "423c143d-3a79-4d43-a59e-e86390d02504",
   "metadata": {},
   "outputs": [
    {
     "name": "stdout",
     "output_type": "stream",
     "text": [
      "[1, 4, 9, 16, 25]\n"
     ]
    }
   ],
   "source": [
    "# create a list from another list\n",
    "my_list = [1,2,3,4,5]\n",
    "list_squares = [x**2 for x in my_list]\n",
    "print(list_squares)"
   ]
  },
  {
   "cell_type": "code",
   "execution_count": 22,
   "id": "1f28ac65-73a0-47f1-9857-bf89d8b17bd0",
   "metadata": {},
   "outputs": [
    {
     "name": "stdout",
     "output_type": "stream",
     "text": [
      "[2, 4, 6]\n"
     ]
    }
   ],
   "source": [
    "# create a list by filtering another list : v1\n",
    "my_list = [1, 2, 3, 4, 5, 6, 7]\n",
    "filtered_list = [x for x in my_list if x%2==0]\n",
    "print(filtered_list)"
   ]
  },
  {
   "cell_type": "code",
   "execution_count": 23,
   "id": "8c218704-207a-45d9-9223-e4079ff58ff8",
   "metadata": {},
   "outputs": [
    {
     "name": "stdout",
     "output_type": "stream",
     "text": [
      "['A', 'A', 'A']\n"
     ]
    }
   ],
   "source": [
    "# create a list by filtering another list : v2\n",
    "my_list = [\"A\", \"B\", \"C\", \"A\", \"C\", \"C\", \"A\"]\n",
    "filtered_list = [x for x in my_list if x==\"A\"]\n",
    "print(filtered_list)"
   ]
  },
  {
   "cell_type": "code",
   "execution_count": 24,
   "id": "d66cced6-1185-4b13-8d91-4981f0bf1ec0",
   "metadata": {},
   "outputs": [
    {
     "name": "stdout",
     "output_type": "stream",
     "text": [
      "['A', 'C', 'A', 'C', 'C', 'A']\n"
     ]
    }
   ],
   "source": [
    "# create a list by filtering another list : v3\n",
    "my_list = [\"A\", \"B\", \"C\", \"A\", \"C\", \"C\", \"A\"]\n",
    "filtered_list = [x for x in my_list if x in [\"A\", \"C\"]]\n",
    "print(filtered_list)"
   ]
  },
  {
   "cell_type": "code",
   "execution_count": 25,
   "id": "b1de5547-032f-4f6a-84c8-16ee5f758b37",
   "metadata": {},
   "outputs": [
    {
     "name": "stdout",
     "output_type": "stream",
     "text": [
      "[['Jim', 'Mercedes Benz'], ['Jim', 'BMW'], ['Jim', 'Lamborgini'], ['Sara', 'Mercedes Benz'], ['Sara', 'BMW'], ['Sara', 'Lamborgini'], ['Harry', 'Mercedes Benz'], ['Harry', 'BMW'], ['Harry', 'Lamborgini']]\n"
     ]
    }
   ],
   "source": [
    "# create a list of lISTS [x,y] BY combining two lists\n",
    "names = ['Jim', 'Sara', 'Harry']\n",
    "cars = [\"Mercedes Benz\", \"BMW\", 'Lamborgini']\n",
    "list_of_all_combinations = [[x,y] for x in names for y in cars]\n",
    "print(list_of_all_combinations)"
   ]
  },
  {
   "cell_type": "code",
   "execution_count": 26,
   "id": "40dbe70b-4715-4def-95ff-d8fec31c5423",
   "metadata": {},
   "outputs": [
    {
     "name": "stdout",
     "output_type": "stream",
     "text": [
      "[('Jim', 'Mercedes Benz'), ('Jim', 'BMW'), ('Jim', 'Lamborgini'), ('Sara', 'Mercedes Benz'), ('Sara', 'BMW'), ('Sara', 'Lamborgini'), ('Harry', 'Mercedes Benz'), ('Harry', 'BMW'), ('Harry', 'Lamborgini')]\n"
     ]
    }
   ],
   "source": [
    "# create a list of TUPLES (x,y) BY combining two lists \n",
    "names = ['Jim', 'Sara', 'Harry']\n",
    "cars = [\"Mercedes Benz\", \"BMW\", 'Lamborgini']\n",
    "list_of_all_combinations = [(x,y) for x in names for y in cars]\n",
    "print(list_of_all_combinations)"
   ]
  },
  {
   "cell_type": "code",
   "execution_count": 27,
   "id": "1e1405c5-db67-4dba-b3fb-1d44f1d3dbd3",
   "metadata": {},
   "outputs": [
    {
     "name": "stdout",
     "output_type": "stream",
     "text": [
      "[{'Jim', 'Mercedes Benz'}, {'BMW', 'Jim'}, {'Jim', 'Lamborgini'}, {'Sara', 'Mercedes Benz'}, {'BMW', 'Sara'}, {'Sara', 'Lamborgini'}, {'Mercedes Benz', 'Harry'}, {'BMW', 'Harry'}, {'Lamborgini', 'Harry'}]\n"
     ]
    }
   ],
   "source": [
    "# create a list of SETS set({x,y}) BY combining two lists \n",
    "names = ['Jim', 'Sara', 'Harry']\n",
    "cars = [\"Mercedes Benz\", \"BMW\", 'Lamborgini']\n",
    "list_of_all_combinations = [set({x,y}) for x in names for y in cars]\n",
    "print(list_of_all_combinations)"
   ]
  },
  {
   "cell_type": "markdown",
   "id": "410afe09-7efa-46ec-907b-613486048d8e",
   "metadata": {
    "tags": []
   },
   "source": [
    "#### 4. concatenation +"
   ]
  },
  {
   "cell_type": "code",
   "execution_count": 28,
   "id": "600a378d-5c04-438a-a68c-c236e7dc188f",
   "metadata": {},
   "outputs": [
    {
     "name": "stdout",
     "output_type": "stream",
     "text": [
      "[1, 2, 3, 0, 0, 0]\n"
     ]
    }
   ],
   "source": [
    "new_list = [1, 2, 3] + [0, 0, 0]\n",
    "print(new_list)"
   ]
  },
  {
   "cell_type": "code",
   "execution_count": 29,
   "id": "97ddb56d-94da-474c-b99c-89b635febdb4",
   "metadata": {},
   "outputs": [
    {
     "name": "stdout",
     "output_type": "stream",
     "text": [
      "[0, 0, 0, 1, 2, 3]\n"
     ]
    }
   ],
   "source": [
    "new_list = [0, 0, 0] + [1, 2, 3]\n",
    "print(new_list)"
   ]
  },
  {
   "cell_type": "code",
   "execution_count": 56,
   "id": "42f7dbbb-e16d-49f0-a185-f090fc7f8cb0",
   "metadata": {},
   "outputs": [
    {
     "name": "stdout",
     "output_type": "stream",
     "text": [
      "['Jim', 'Sara', 'Martin', 'Harry', 'Chris']\n"
     ]
    }
   ],
   "source": [
    "names = ['Jim', 'Sara', 'Martin']\n",
    "please_add_these_names = ['Harry', 'Chris']\n",
    "new_names = names + please_add_these_names\n",
    "print(new_names)"
   ]
  },
  {
   "cell_type": "markdown",
   "id": "9878c37a-3e24-413e-9127-ccecdf9ce7e9",
   "metadata": {
    "jp-MarkdownHeadingCollapsed": true,
    "tags": []
   },
   "source": [
    "#### 5. multiplication *"
   ]
  },
  {
   "cell_type": "code",
   "execution_count": null,
   "id": "757644c4-8e82-4108-90bd-446bd4739327",
   "metadata": {},
   "outputs": [],
   "source": [
    "zeros = [0] * 3 # It's like [0] + [0] + [0]\n",
    "print(zeros)"
   ]
  },
  {
   "cell_type": "code",
   "execution_count": null,
   "id": "2737c44a-5e06-4b7d-9d71-751280f56214",
   "metadata": {},
   "outputs": [],
   "source": [
    "ones = [1] * 10 # It's like [1] + [1] + [1] + ... + [1] (10 times)\n",
    "print(ones)"
   ]
  },
  {
   "cell_type": "code",
   "execution_count": null,
   "id": "8c5e079a-c389-464b-9da0-e8003176b2f8",
   "metadata": {},
   "outputs": [],
   "source": [
    "# A simple function to specify the length of list for zeros\n",
    "def zeros(length):\n",
    "    return [0] * length\n",
    "\n",
    "# A simple function to specify the length of list for ones\n",
    "def ones(length):\n",
    "    return [1] * length\n",
    "\n",
    "print(zeros(7))\n",
    "print(ones(13))"
   ]
  },
  {
   "cell_type": "markdown",
   "id": "82678afb-166f-4a28-b927-82b72bc4b1a1",
   "metadata": {},
   "source": [
    "#### 6. using slice keyword"
   ]
  },
  {
   "cell_type": "code",
   "execution_count": 43,
   "id": "3a8b5aa9-16a5-4a5a-b196-21a9c677874f",
   "metadata": {},
   "outputs": [
    {
     "name": "stdout",
     "output_type": "stream",
     "text": [
      "[1, 2, 3, 4, 'added_in_the_end']\n"
     ]
    }
   ],
   "source": [
    "# add elements to the end of the list : my_list[len(my_list):]\n",
    "my_list = [1, 2, 3, 4]\n",
    "my_list[len(my_list):] = ['added_in_the_end']\n",
    "print(my_list)"
   ]
  },
  {
   "cell_type": "code",
   "execution_count": 44,
   "id": "13865292-c693-4286-8c16-a08398dbd31a",
   "metadata": {},
   "outputs": [
    {
     "name": "stdout",
     "output_type": "stream",
     "text": [
      "['added_at_start', 1, 2, 3, 4, 'added_in_the_end']\n"
     ]
    }
   ],
   "source": [
    "# add element at the start of list : mylist[0:0]\n",
    "my_list[0:0] = ['added_at_start']\n",
    "print(my_list)"
   ]
  },
  {
   "cell_type": "code",
   "execution_count": 45,
   "id": "fa0dbdcc-ad46-4d1d-b770-025f0cafcc72",
   "metadata": {},
   "outputs": [
    {
     "name": "stdout",
     "output_type": "stream",
     "text": [
      "['added_at_start', 1, 'this_added_at_third_place', 2, 3, 4, 'added_in_the_end']\n"
     ]
    }
   ],
   "source": [
    "# add element at the specified position of the list my_list[i:i] which i is the index of position\n",
    "my_list[2:2] = ['this_added_at_third_place']\n",
    "print(my_list)"
   ]
  },
  {
   "cell_type": "code",
   "execution_count": 50,
   "id": "5ea1ce90-c6c7-4f0a-916e-8eea8a1e60f0",
   "metadata": {},
   "outputs": [
    {
     "name": "stdout",
     "output_type": "stream",
     "text": [
      "[6, 7, 8]\n"
     ]
    }
   ],
   "source": [
    "my_list = [1,2,3,4,5,6,7,8,9,10]\n",
    "new_list = my_list[5:8] # create a new list of elements at positions 5, 6, 7 of the my_list\n",
    "print(new_list)"
   ]
  },
  {
   "cell_type": "code",
   "execution_count": 55,
   "id": "7cd966c1-6cc5-4860-b77b-f8f169d38bd1",
   "metadata": {},
   "outputs": [
    {
     "name": "stdout",
     "output_type": "stream",
     "text": [
      "[10]\n",
      "[10]\n"
     ]
    }
   ],
   "source": [
    "# make a list of the last element of list\n",
    "new_list = my_list[len(my_list)-1:]\n",
    "print(new_list)\n",
    "# or \n",
    "new_list = my_list[-1:]\n",
    "print(new_list)"
   ]
  },
  {
   "cell_type": "code",
   "execution_count": null,
   "id": "4c34a0c4-bdc1-4729-a82c-f9bd4a0321f8",
   "metadata": {},
   "outputs": [],
   "source": []
  }
 ],
 "metadata": {
  "kernelspec": {
   "display_name": "Python 3 (ipykernel)",
   "language": "python",
   "name": "python3"
  },
  "language_info": {
   "codemirror_mode": {
    "name": "ipython",
    "version": 3
   },
   "file_extension": ".py",
   "mimetype": "text/x-python",
   "name": "python",
   "nbconvert_exporter": "python",
   "pygments_lexer": "ipython3",
   "version": "3.10.6"
  }
 },
 "nbformat": 4,
 "nbformat_minor": 5
}
