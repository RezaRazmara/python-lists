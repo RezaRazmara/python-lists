{
 "cells": [
  {
   "cell_type": "markdown",
   "id": "74b97939-27fe-4188-9bcf-d2cdb1e0c7f3",
   "metadata": {
    "tags": []
   },
   "source": [
    "# Add data to the list"
   ]
  },
  {
   "cell_type": "markdown",
   "id": "531d8cda-67cf-49b6-96e8-4ae678fa2356",
   "metadata": {
    "tags": []
   },
   "source": [
    "### 1. append method"
   ]
  },
  {
   "cell_type": "code",
   "execution_count": 1,
   "id": "5e7f33f2-bdc2-430e-b5ae-284e20c50bab",
   "metadata": {},
   "outputs": [],
   "source": [
    "my_list = [x for x in range(10)]"
   ]
  },
  {
   "cell_type": "code",
   "execution_count": 2,
   "id": "9420aafb-c777-4916-8c85-7815e5f0498f",
   "metadata": {},
   "outputs": [],
   "source": [
    "my_list.append(10)"
   ]
  },
  {
   "cell_type": "code",
   "execution_count": 3,
   "id": "c87c34e9-269a-4115-a6b2-7603f2204414",
   "metadata": {},
   "outputs": [
    {
     "name": "stdout",
     "output_type": "stream",
     "text": [
      "[0, 1, 2, 3, 4, 5, 6, 7, 8, 9, 10]\n"
     ]
    }
   ],
   "source": [
    "print(my_list)"
   ]
  },
  {
   "cell_type": "markdown",
   "id": "09e2d5e2-518f-4000-afdb-bcf94dbbca76",
   "metadata": {
    "tags": []
   },
   "source": [
    "### 2. Use my_list[:]"
   ]
  },
  {
   "cell_type": "code",
   "execution_count": 4,
   "id": "71e8310d-b588-4832-b3c6-1cca8eb17c74",
   "metadata": {},
   "outputs": [],
   "source": [
    "my_list = [x for x in range(10)]"
   ]
  },
  {
   "cell_type": "code",
   "execution_count": 5,
   "id": "71ff21c9-5cc1-4d0e-bcb9-47c0520a6867",
   "metadata": {},
   "outputs": [],
   "source": [
    "my_list[len(my_list):] = [10] # my_list.append(11), it puts the element at the end of list."
   ]
  },
  {
   "cell_type": "code",
   "execution_count": 6,
   "id": "21c95ec0-2a24-45f9-acde-5073f94ef610",
   "metadata": {},
   "outputs": [
    {
     "name": "stdout",
     "output_type": "stream",
     "text": [
      "[0, 1, 2, 3, 4, 5, 6, 7, 8, 9, 10]\n"
     ]
    }
   ],
   "source": [
    "print(my_list)"
   ]
  },
  {
   "cell_type": "markdown",
   "id": "5e43faf0-684d-4025-be84-84b240b6c602",
   "metadata": {
    "tags": []
   },
   "source": [
    "### 3. Use insert method"
   ]
  },
  {
   "cell_type": "code",
   "execution_count": 7,
   "id": "8035f91c-4bb2-45c5-b8d7-e3802210056c",
   "metadata": {},
   "outputs": [],
   "source": [
    "my_list = [x for x in range(10)]"
   ]
  },
  {
   "cell_type": "code",
   "execution_count": 8,
   "id": "805266e5-61a9-49b9-971a-0284e0c9f1e4",
   "metadata": {},
   "outputs": [
    {
     "name": "stdout",
     "output_type": "stream",
     "text": [
      "[12, 0, 1, 2, 3, 4, 5, 6, 7, 8, 9]\n"
     ]
    }
   ],
   "source": [
    "my_list.insert(0,12) # insert 12 at the position zero of list\n",
    "print(my_list)"
   ]
  },
  {
   "cell_type": "code",
   "execution_count": 9,
   "id": "fa2734df-9b8d-4f11-b808-6d02a33e9881",
   "metadata": {},
   "outputs": [
    {
     "name": "stdout",
     "output_type": "stream",
     "text": [
      "[12, 0, 1, 2, 3, 4, 13, 5, 6, 7, 8, 9]\n"
     ]
    }
   ],
   "source": [
    "my_list.insert(6,13) # insert 13 at the postion of 6 of list\n",
    "print(my_list)"
   ]
  },
  {
   "cell_type": "code",
   "execution_count": 10,
   "id": "7f0cdff8-b6bb-436a-afe6-8cf2eb6bc00c",
   "metadata": {},
   "outputs": [
    {
     "name": "stdout",
     "output_type": "stream",
     "text": [
      "[12, 0, 1, 2, 3, 4, 13, 5, 6, 7, 8, 9, 14]\n"
     ]
    }
   ],
   "source": [
    "# this code is equivalent to append -> my_list.append(14)\n",
    "my_list.insert(len(my_list),14) # equivalent to : my_list.append(14)\n",
    "print(my_list)"
   ]
  },
  {
   "cell_type": "markdown",
   "id": "6bf69b8e-81ea-45ec-aad4-49b940ab0fd8",
   "metadata": {},
   "source": [
    "### 3. Insert an iterable to the list"
   ]
  },
  {
   "cell_type": "code",
   "execution_count": 11,
   "id": "140ea3c1-4998-45d7-8143-d071147581b8",
   "metadata": {},
   "outputs": [
    {
     "name": "stdout",
     "output_type": "stream",
     "text": [
      "[0, 1, 2, 3, 4, 5, 6, 7, 8, 9, 'Jim', 'Sara']\n"
     ]
    }
   ],
   "source": [
    "my_list = [x for x in range(10)]\n",
    "my_list.extend(['Jim', 'Sara'])\n",
    "print(my_list)"
   ]
  },
  {
   "cell_type": "code",
   "execution_count": 12,
   "id": "da89292a-7438-4bc0-bc9c-411960164a72",
   "metadata": {},
   "outputs": [
    {
     "name": "stdout",
     "output_type": "stream",
     "text": [
      "[0, 1, 2, 3, 4, 5, 6, 7, 8, 9, 'Jim', 'Sara', -1.0, -2.0, -3.0]\n"
     ]
    }
   ],
   "source": [
    "my_list.extend((-1.0,-2.0,-3.0))\n",
    "print(my_list)"
   ]
  },
  {
   "cell_type": "code",
   "execution_count": 13,
   "id": "3bbd9149-c49b-4fb4-a7db-cb116807123d",
   "metadata": {},
   "outputs": [
    {
     "name": "stdout",
     "output_type": "stream",
     "text": [
      "[0, 1, 2, 3, 4, 'key1', 'key2']\n"
     ]
    }
   ],
   "source": [
    "my_list[5:] = {'key1': 'value1', 'key2': 'value2'}\n",
    "print(my_list)"
   ]
  },
  {
   "cell_type": "markdown",
   "id": "b0310724-020d-4524-9392-3dc76450d324",
   "metadata": {
    "tags": []
   },
   "source": [
    "### 4. list concatenation"
   ]
  },
  {
   "cell_type": "code",
   "execution_count": 14,
   "id": "3fba28ec-e6f2-49e6-8074-2e877595409f",
   "metadata": {},
   "outputs": [],
   "source": [
    "# define two lists.\n",
    "list1 = [1, 2, 3, 4, 5, 6]\n",
    "list2 = ['Jim', 'Sara', 'Martin']"
   ]
  },
  {
   "cell_type": "code",
   "execution_count": 15,
   "id": "1fdfe0b9-6d1b-457c-b65e-f8020813572e",
   "metadata": {},
   "outputs": [
    {
     "name": "stdout",
     "output_type": "stream",
     "text": [
      "[1, 2, 3, 4, 5, 6, 'Jim', 'Sara', 'Martin']\n"
     ]
    }
   ],
   "source": [
    "# concatinate these two lists\n",
    "new_list = list1 + list2\n",
    "print(new_list)"
   ]
  },
  {
   "cell_type": "code",
   "execution_count": 16,
   "id": "d516a0cc-f0ec-449e-b908-c5323d77e055",
   "metadata": {},
   "outputs": [
    {
     "name": "stdout",
     "output_type": "stream",
     "text": [
      "[1, 2, 3, 4, 5, 6, 7, 8]\n"
     ]
    }
   ],
   "source": [
    "# concatenate two lists directly.\n",
    "new_list = [1,2,3,4] + [5, 6, 7, 8]\n",
    "print(new_list)"
   ]
  },
  {
   "cell_type": "code",
   "execution_count": 17,
   "id": "65c440c4-6381-47dd-9bf0-8405b2e456b5",
   "metadata": {},
   "outputs": [
    {
     "name": "stdout",
     "output_type": "stream",
     "text": [
      "[1, 0, 0, 0, 2, 3, 4, 5, 6, 7, 8]\n"
     ]
    }
   ],
   "source": [
    "# add only the elements of [0,0,0] at the index 1 of the new_list.\n",
    "new_list[1:1]=[0,0,0]\n",
    "print(new_list)"
   ]
  },
  {
   "cell_type": "markdown",
   "id": "cd580f27-b106-4f61-80dd-2078ef14ac94",
   "metadata": {
    "tags": []
   },
   "source": [
    "### 5. multiplication *"
   ]
  },
  {
   "cell_type": "code",
   "execution_count": 19,
   "id": "1ae93d19-6c06-4898-a6ed-5f646e3454c1",
   "metadata": {},
   "outputs": [
    {
     "name": "stdout",
     "output_type": "stream",
     "text": [
      "[1, 2, 3, 1, 2, 3]\n"
     ]
    }
   ],
   "source": [
    "my_list = [1 ,2 ,3]\n",
    "new_list = my_list * 2 # It's like new_list = my_list + my_list\n",
    "print(new_list)"
   ]
  },
  {
   "cell_type": "code",
   "execution_count": 21,
   "id": "132fb3a0-7564-407f-a892-5fc112b3df35",
   "metadata": {},
   "outputs": [
    {
     "name": "stdout",
     "output_type": "stream",
     "text": [
      "[1, 2, 3, 1, 2, 3, 1, 2, 3]\n"
     ]
    }
   ],
   "source": [
    "my_list = [1 ,2 ,3]\n",
    "new_list = my_list * 3 # It's like new_list = my_list + my_list\n",
    "print(new_list)"
   ]
  },
  {
   "cell_type": "code",
   "execution_count": null,
   "id": "186bfd4b-e061-486f-b972-f6b52c871f8e",
   "metadata": {},
   "outputs": [],
   "source": []
  }
 ],
 "metadata": {
  "kernelspec": {
   "display_name": "Python 3 (ipykernel)",
   "language": "python",
   "name": "python3"
  },
  "language_info": {
   "codemirror_mode": {
    "name": "ipython",
    "version": 3
   },
   "file_extension": ".py",
   "mimetype": "text/x-python",
   "name": "python",
   "nbconvert_exporter": "python",
   "pygments_lexer": "ipython3",
   "version": "3.10.6"
  }
 },
 "nbformat": 4,
 "nbformat_minor": 5
}
